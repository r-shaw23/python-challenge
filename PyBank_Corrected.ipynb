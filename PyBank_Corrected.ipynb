{
 "cells": [
  {
   "cell_type": "code",
   "execution_count": null,
   "id": "e6034a83-deb8-419b-9109-64699d33d389",
   "metadata": {
    "tags": []
   },
   "outputs": [],
   "source": [
    "import pandas as pd\n",
    "\n",
    "csv_file_path = \"budget_data.csv\"\n",
    "\n",
    "df = pd.read_csv(csv_file_path)\n",
    "\n"
   ]
  },
  {
   "cell_type": "code",
   "execution_count": 2,
   "id": "9acded8b-eba6-4384-871c-6d69cfda94df",
   "metadata": {
    "tags": []
   },
   "outputs": [
    {
     "name": "stdout",
     "output_type": "stream",
     "text": [
      "Total Months: 86\n"
     ]
    }
   ],
   "source": [
    "import pandas as pd\n",
    "\n",
    "df = pd.read_csv('budget_data.csv')\n",
    "\n",
    "column_name_length = len(df['Date'])\n",
    "\n",
    "print(f'Total Months: {column_name_length}')\n"
   ]
  },
  {
   "cell_type": "code",
   "execution_count": 8,
   "id": "592f8ba2-9d54-4d7a-a8e2-80f011bfdaf2",
   "metadata": {
    "tags": []
   },
   "outputs": [
    {
     "name": "stdout",
     "output_type": "stream",
     "text": [
      " Profit/Losses: $22564198.00\n"
     ]
    }
   ],
   "source": [
    "\n",
    "df = pd.read_csv('budget_data.csv')\n",
    "\n",
    "total = df['Profit/Losses'].sum()\n",
    "\n",
    "print(' Profit/Losses: ${:.2f}'.format(total))"
   ]
  },
  {
   "cell_type": "code",
   "execution_count": 9,
   "id": "aa36f6b7-5f0d-4a19-9c06-9e9f1866e090",
   "metadata": {
    "tags": []
   },
   "outputs": [
    {
     "name": "stdout",
     "output_type": "stream",
     "text": [
      "Average Change in Profit/Losses: $-8311.11\n"
     ]
    }
   ],
   "source": [
    "\n",
    "df = pd.read_csv('budget_data.csv')\n",
    "\n",
    "df['Profit/Loss Changes'] = df['Profit/Losses'].diff()\n",
    "\n",
    "average_change = df['Profit/Loss Changes'].mean()\n",
    "\n",
    "print('Average Change in Profit/Losses: ${:.2f}'.format(average_change))\n",
    "\n"
   ]
  },
  {
   "cell_type": "code",
   "execution_count": 10,
   "id": "b4a4ccc5-0892-41fb-816d-44991b82585c",
   "metadata": {
    "tags": []
   },
   "outputs": [],
   "source": [
    "\n",
    "df['Profit/Losses'] = df['Profit/Losses'].diff()\n",
    "\n",
    "df = df.dropna()\n"
   ]
  },
  {
   "cell_type": "code",
   "execution_count": 11,
   "id": "9b845b92-e7a1-4400-a492-a575de18b21a",
   "metadata": {
    "tags": []
   },
   "outputs": [
    {
     "name": "stdout",
     "output_type": "stream",
     "text": [
      "Greatest Increase in Profits: Date: 16-Aug, Amount: $1862002.00\n"
     ]
    }
   ],
   "source": [
    "\n",
    "greatest_increase_row = df.loc[df['Profit/Loss Changes'].idxmax()]\n",
    "\n",
    "greatest_increase_date = greatest_increase_row['Date']\n",
    "greatest_increase_amount = greatest_increase_row['Profit/Loss Changes']\n",
    "\n",
    "print(f'Greatest Increase in Profits: Date: {greatest_increase_date}, Amount: ${greatest_increase_amount:.2f}')\n"
   ]
  },
  {
   "cell_type": "code",
   "execution_count": 12,
   "id": "ffdd4b0b-a880-41dd-89f0-ad29bfff3f72",
   "metadata": {
    "tags": []
   },
   "outputs": [],
   "source": [
    "df = pd.read_csv('budget_data.csv')\n",
    "\n",
    "df['Profit/Losses'] = df['Profit/Losses'].diff()\n",
    "\n",
    "\n",
    "df = df.dropna()\n",
    "\n"
   ]
  },
  {
   "cell_type": "code",
   "execution_count": 13,
   "id": "c180e4af-8cfc-4fc9-acf7-f5ba1f48433e",
   "metadata": {
    "tags": []
   },
   "outputs": [
    {
     "name": "stdout",
     "output_type": "stream",
     "text": [
      "Greatest Decrease in Profits: Date: 14-Feb, Amount: $-1825558.00\u001b[0m\n"
     ]
    }
   ],
   "source": [
    "\n",
    "greatest_decrease_row = df.loc[df['Profit/Losses'].idxmin()]\n",
    "\n",
    "greatest_decrease_date = greatest_decrease_row['Date']\n",
    "greatest_decrease_amount = greatest_decrease_row['Profit/Losses']\n",
    "\n",
    "\n",
    "print(f'Greatest Decrease in Profits: Date: {greatest_decrease_date}, Amount: ${greatest_decrease_amount:.2f}\\033[0m')\n"
   ]
  }
 ],
 "metadata": {
  "kernelspec": {
   "display_name": "Python 3 (ipykernel)",
   "language": "python",
   "name": "python3"
  },
  "language_info": {
   "codemirror_mode": {
    "name": "ipython",
    "version": 3
   },
   "file_extension": ".py",
   "mimetype": "text/x-python",
   "name": "python",
   "nbconvert_exporter": "python",
   "pygments_lexer": "ipython3",
   "version": "3.11.5"
  }
 },
 "nbformat": 4,
 "nbformat_minor": 5
}
