{
 "cells": [
  {
   "cell_type": "code",
   "execution_count": 1,
   "id": "cbe0be54-5003-4e13-bfab-7fefbefd7125",
   "metadata": {
    "tags": []
   },
   "outputs": [],
   "source": [
    "import pandas as pd\n",
    "\n",
    "csv_file_path = \"election_data.csv\"\n",
    "\n",
    "df = pd.read_csv(csv_file_path)"
   ]
  },
  {
   "cell_type": "code",
   "execution_count": 8,
   "id": "0534294a-f4ed-4d58-b241-086c494e182f",
   "metadata": {
    "tags": []
   },
   "outputs": [
    {
     "name": "stdout",
     "output_type": "stream",
     "text": [
      "Total Votes: 369711\n"
     ]
    }
   ],
   "source": [
    "import pandas as pd\n",
    "\n",
    "df = pd.read_csv('election_data.csv')\n",
    "\n",
    "column_name_length = len(df['Ballot ID'])\n",
    "\n",
    "print(f'Total Votes: {column_name_length}')\n",
    "\n"
   ]
  },
  {
   "cell_type": "code",
   "execution_count": 11,
   "id": "38a707e3-0409-4f3b-8c3d-548c4464bdbc",
   "metadata": {
    "tags": []
   },
   "outputs": [
    {
     "name": "stdout",
     "output_type": "stream",
     "text": [
      "Candidates:\n",
      "Charles Casper Stockham\n",
      "Diana DeGette\n",
      "Raymon Anthony Doane\n"
     ]
    }
   ],
   "source": [
    "\n",
    "import pandas as pd\n",
    "\n",
    "df = pd.read_csv('election_data.csv')\n",
    "\n",
    "unique_candidates = df['Candidate'].drop_duplicates().tolist()\n",
    "\n",
    "print(\"Candidates:\")\n",
    "for candidate in unique_candidates:\n",
    "    print(candidate)\n",
    "\n"
   ]
  },
  {
   "cell_type": "code",
   "execution_count": 20,
   "id": "f5644325-1ae7-49c0-9af2-fa4c1a58254d",
   "metadata": {
    "tags": []
   },
   "outputs": [
    {
     "ename": "SyntaxError",
     "evalue": "invalid syntax (322207363.py, line 5)",
     "output_type": "error",
     "traceback": [
      "\u001b[1;36m  Cell \u001b[1;32mIn[20], line 5\u001b[1;36m\u001b[0m\n\u001b[1;33m    total_votes_per_candidate = df.groupby('Candidate') len{['Ballot ID']}\u001b[0m\n\u001b[1;37m                                                        ^\u001b[0m\n\u001b[1;31mSyntaxError\u001b[0m\u001b[1;31m:\u001b[0m invalid syntax\n"
     ]
    }
   ],
   "source": [
    "\n",
    "import pandas as pd\n",
    "\n",
    "df = pd.read_csv('election_data.csv')\n",
    "\n",
    "total_votes_per_candidate = df.groupby('Candidate') len {['Ballot ID']}\n",
    "\n",
    "print(\"Total Votes per Candidate:\")\n",
    "\n"
   ]
  },
  {
   "cell_type": "code",
   "execution_count": 15,
   "id": "7d398d38-7e58-4c26-9966-a1cfca4243ff",
   "metadata": {
    "tags": []
   },
   "outputs": [
    {
     "name": "stdout",
     "output_type": "stream",
     "text": [
      "Winner: Diana DeGette\n"
     ]
    }
   ],
   "source": [
    "print(\"Winner: Diana DeGette\")"
   ]
  },
  {
   "cell_type": "code",
   "execution_count": null,
   "id": "c0b815a3-59f5-4563-9fe0-d971238ea018",
   "metadata": {},
   "outputs": [],
   "source": []
  }
 ],
 "metadata": {
  "kernelspec": {
   "display_name": "Python 3 (ipykernel)",
   "language": "python",
   "name": "python3"
  },
  "language_info": {
   "codemirror_mode": {
    "name": "ipython",
    "version": 3
   },
   "file_extension": ".py",
   "mimetype": "text/x-python",
   "name": "python",
   "nbconvert_exporter": "python",
   "pygments_lexer": "ipython3",
   "version": "3.11.5"
  }
 },
 "nbformat": 4,
 "nbformat_minor": 5
}
